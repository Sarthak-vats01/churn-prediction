{
 "cells": [
  {
   "cell_type": "markdown",
   "id": "d409d4ee-40eb-4b12-904c-b4fcacd2fa76",
   "metadata": {
    "jp-MarkdownHeadingCollapsed": true
   },
   "source": [
    "# Data Cleaning & Preprocessing\n",
    "## ✅ EDA (Exploratory Data Analysis)\n",
    "## ✅ Groupby, Pivot Tables\n",
    "## ✅ Handling Dates & Time\n",
    "## ✅ Feature Engineering\n",
    "## ✅ SQL-style queries with pandas\n",
    "## ✅ Visualizations with matplotlib/seaborn\n",
    "## ✅ Report creation using Tableau\n",
    "## ✅ Storytelling with Data\n",
    "## ✅ Exporting Insights to CSV or PDF "
   ]
  },
  {
   "cell_type": "markdown",
   "id": "317740eb-5b0d-41d6-9c32-7fedda255d38",
   "metadata": {},
   "source": [
    "# 🔍 Step 1: Data Cleaning & Basic Exploration\n"
   ]
  },
  {
   "cell_type": "code",
   "execution_count": 1,
   "id": "4234dcbf-21ea-4349-a7d9-aee87428259c",
   "metadata": {},
   "outputs": [],
   "source": [
    "import pandas as pd"
   ]
  },
  {
   "cell_type": "code",
   "execution_count": 3,
   "id": "96a59026-1038-4a38-8421-0138db15ddd9",
   "metadata": {},
   "outputs": [],
   "source": [
    "customers = pd.read_csv(\"dataset/customers.csv\")\n",
    "transactions = pd.read_csv(\"dataset/transactions.csv\")"
   ]
  },
  {
   "cell_type": "code",
   "execution_count": 4,
   "id": "6ed7dadd-8aed-4c8c-bda1-52fa87548c4e",
   "metadata": {},
   "outputs": [
    {
     "name": "stdout",
     "output_type": "stream",
     "text": [
      "  customer_id             name  age gender  income   join_date  credit_limit  \\\n",
      "0       C1000  Michael Charles   56  Other   35795  16-12-2020          5000   \n",
      "1       C1001     Ronald Boyle   46  Other  123694  18-06-2021         20000   \n",
      "2       C1002   Daniel Sanders   60   Male  139879  12-06-2022         10000   \n",
      "3       C1003      Billy Baker   38   Male   74886  23-11-2020         50000   \n",
      "4       C1004    Ryan Williams   36  Other  148214  17-10-2020         30000   \n",
      "\n",
      "    status  \n",
      "0   Active  \n",
      "1   Active  \n",
      "2  Churned  \n",
      "3   Active  \n",
      "4   Active  \n",
      "                         transaction_id customer_id transaction_date  amount  \\\n",
      "0  32d31488-bb51-41c6-9178-f773617d996f       C1080       22-03-2025    6.35   \n",
      "1  29143434-a9d1-4672-9ebb-3ac6cd524093       C1578       10-05-2023  214.48   \n",
      "2  ea841a3c-498a-42a8-9093-d3a577ddf7ad       C1700       14-11-2024   72.58   \n",
      "3  bc7a9d7c-6e3e-49cb-8bb9-a914bfe9add7       C1415       29-08-2023  236.99   \n",
      "4  c97d10ea-ad42-4307-8a38-63705a0fe7ed       C1487       03-05-2024   84.70   \n",
      "\n",
      "        category                    merchant           city state  \\\n",
      "0  Entertainment             Cooper-Trujillo      East Ryan    MD   \n",
      "1       Shopping  White, Zimmerman and Munoz    Lake Alexis    UT   \n",
      "2         Travel            Fletcher-Webster    Bradleyview    MI   \n",
      "3     Healthcare                 Gould-Ortiz  Port Toddfort    KS   \n",
      "4         Dining             Nolan-Donaldson   West Brandon    AR   \n",
      "\n",
      "  is_international card_type  \n",
      "0               No      Gold  \n",
      "1              Yes      Gold  \n",
      "2              Yes    Silver  \n",
      "3               No  Platinum  \n",
      "4              Yes  Platinum  \n"
     ]
    }
   ],
   "source": [
    "print(customers.head())\n",
    "print(transactions.head())"
   ]
  },
  {
   "cell_type": "code",
   "execution_count": null,
   "id": "387226a0-b3d8-4fa4-8fc1-80cb63a5a6e3",
   "metadata": {},
   "outputs": [],
   "source": [
    "print(customers.isnull().sum())"
   ]
  },
  {
   "cell_type": "code",
   "execution_count": null,
   "id": "f9e20afb-a289-4598-9c37-4d51f770e2b2",
   "metadata": {},
   "outputs": [],
   "source": [
    "print(transactions.isnull().sum())"
   ]
  },
  {
   "cell_type": "code",
   "execution_count": null,
   "id": "376fc01d-033f-46a6-80fb-13b02881c8d9",
   "metadata": {},
   "outputs": [],
   "source": [
    "print(customers.dtypes)\n",
    "print(transactions.dtypes)"
   ]
  },
  {
   "cell_type": "code",
   "execution_count": null,
   "id": "bcff735a-3863-4614-a552-0e4cd90fb551",
   "metadata": {},
   "outputs": [],
   "source": [
    "customers['join_date'] = pd.to_datetime(customers['join_date'], dayfirst=True)"
   ]
  },
  {
   "cell_type": "code",
   "execution_count": null,
   "id": "2d20a0a9-6678-4aec-8f0b-6a00c11aaff7",
   "metadata": {},
   "outputs": [],
   "source": [
    "print(customers.dtypes)"
   ]
  },
  {
   "cell_type": "code",
   "execution_count": null,
   "id": "7e7f5ae2-8072-4c52-8c06-69a9801ebde8",
   "metadata": {},
   "outputs": [],
   "source": [
    "transactions['transaction_date'] = pd.to_datetime(transactions['transaction_date'], dayfirst = True)"
   ]
  },
  {
   "cell_type": "markdown",
   "id": "8209844a-ae8c-4b56-9e92-45ca47f5eb02",
   "metadata": {},
   "source": [
    "# 📊 Step 2: Exploratory Data Analysis (EDA)\n"
   ]
  },
  {
   "cell_type": "code",
   "execution_count": null,
   "id": "26fb3c70-5a45-4f9f-9e73-424a6a9fe809",
   "metadata": {},
   "outputs": [],
   "source": [
    "categorySpend = transactions.groupby('category')['amount'].sum().sort_values(ascending = True)"
   ]
  },
  {
   "cell_type": "code",
   "execution_count": null,
   "id": "dbdfc41e-8acc-48cb-bbe6-40edace8e374",
   "metadata": {},
   "outputs": [],
   "source": [
    "categorySpend"
   ]
  },
  {
   "cell_type": "code",
   "execution_count": null,
   "id": "54aff238-a7e4-405a-9bb6-f4661e22dbf4",
   "metadata": {},
   "outputs": [],
   "source": [
    "transactions['month'] = transactions['transaction_date'].dt.to_period('M')"
   ]
  },
  {
   "cell_type": "code",
   "execution_count": null,
   "id": "ff153c93-22c7-4c36-b9b5-1e1aaa33562d",
   "metadata": {},
   "outputs": [],
   "source": [
    "monthly_spend = transactions.groupby('month')['amount'].sum().sort_values(ascending = True)"
   ]
  },
  {
   "cell_type": "code",
   "execution_count": null,
   "id": "5330c852-db65-4cef-bc95-9f88c8fdedcc",
   "metadata": {},
   "outputs": [],
   "source": [
    "monthly_spend_Line = monthly_spend.plot(kind = 'line' , title = 'Monthly Spends')\n",
    "monthly_spend_Line"
   ]
  },
  {
   "cell_type": "code",
   "execution_count": null,
   "id": "2f3384f6-bcd6-4fe9-a089-a0b3d56ee685",
   "metadata": {},
   "outputs": [],
   "source": [
    "top_customers = transactions.groupby('customer_id')['amount'].sum().sort_values(ascending = False).head(7)\n",
    "top_customers"
   ]
  },
  {
   "cell_type": "code",
   "execution_count": null,
   "id": "6721185a-f463-4dc2-a28c-5d2229fa049a",
   "metadata": {},
   "outputs": [],
   "source": [
    "top_customer_name = top_customers.reset_index().merge(customers[['customer_id', 'name']], on = 'customer_id')\n",
    "top_customer_name"
   ]
  },
  {
   "cell_type": "markdown",
   "id": "869ce3e8-a3e1-4a3f-8217-8ac16b0e05f6",
   "metadata": {},
   "source": [
    "# 🧠 Step 3: Feature Engineering\n"
   ]
  },
  {
   "cell_type": "code",
   "execution_count": null,
   "id": "d45bd431-0d71-4368-a7ed-42f8f772db18",
   "metadata": {},
   "outputs": [],
   "source": [
    "agg_data = transactions.groupby('customer_id').agg(\n",
    "    total_spend=('amount','sum'),\n",
    "    avg_spend= ('amount','mean'),\n",
    "    txn_count=('amount','count'),\n",
    "    int_txn_pct=('is_international', lambda x: (x== 'Yes').mean() * 100)\n",
    ").reset_index()\n",
    "\n",
    "agg_data"
   ]
  },
  {
   "cell_type": "code",
   "execution_count": null,
   "id": "48fa0faa-9387-46ef-9425-aa02a36baf47",
   "metadata": {},
   "outputs": [],
   "source": [
    "customer_summary = pd.merge(customers, agg_data, on='customer_id')\n",
    "customer_summary"
   ]
  },
  {
   "cell_type": "markdown",
   "id": "b541dadb-9a44-4ea5-8647-94f8cb13967e",
   "metadata": {},
   "source": [
    "# 🔥 Step 4: Business Logic-Based Flags"
   ]
  },
  {
   "cell_type": "code",
   "execution_count": null,
   "id": "b08cec6a-567e-4fcc-896c-c4fa391eca28",
   "metadata": {},
   "outputs": [],
   "source": [
    "def customerValue(t):\n",
    "    if t >= 1000:\n",
    "        return 'High'\n",
    "    elif t > 500 and t < 1000:\n",
    "        return 'Medium'\n",
    "    else: \n",
    "        return 'Low'\n",
    "\n",
    "customer_summary['value_segment'] = customer_summary['total_spend'].apply(customerValue)\n",
    "customer_summary"
   ]
  },
  {
   "cell_type": "markdown",
   "id": "a0e88dd4-a961-458c-8954-827a5965ee60",
   "metadata": {},
   "source": [
    "# Category-wise Spends"
   ]
  },
  {
   "cell_type": "code",
   "execution_count": null,
   "id": "afce5abb-39c8-41b7-9af7-3a16c7fc9fdd",
   "metadata": {},
   "outputs": [],
   "source": [
    "import seaborn as sns\n",
    "import matplotlib.pyplot as plt\n",
    "%matplotlib inline\n"
   ]
  },
  {
   "cell_type": "code",
   "execution_count": null,
   "id": "fba90123-df18-4726-90f3-02e92e96f0ff",
   "metadata": {},
   "outputs": [],
   "source": [
    "sortedSpend = categorySpend.sort_values(ascending = False)\n",
    "colors = sns.color_palette('Set2', n_colors=len(sortedSpend))\n",
    "\n",
    "\n",
    "plt.figure(figsize=(10,8))\n",
    "sns.barplot(x= sortedSpend.index, y= sortedSpend.values, hue=sortedSpend.index, palette=colors)\n",
    "plt.xticks(rotation=45)\n",
    "plt.grid(True)\n",
    "plt.title('Total Spend By Category')\n",
    "plt.xlabel('Category')\n",
    "plt.ylabel('Spend')\n",
    "plt.tight_layout()\n",
    "plt.show()"
   ]
  },
  {
   "cell_type": "markdown",
   "id": "c5642ca3-f6da-4e25-874a-de702df5782d",
   "metadata": {},
   "source": [
    "# Customer Segmentation"
   ]
  },
  {
   "cell_type": "code",
   "execution_count": null,
   "id": "bb3cb91f-932b-4040-b5cc-e6a63127709a",
   "metadata": {},
   "outputs": [],
   "source": [
    "customer_summary['value_segment'].value_counts().plot.pie(autopct=\"%1.1f%%\", startangle=90, title=\"Customer Segment\", figsize=(6,6))\n",
    "\n",
    "plt.show()"
   ]
  },
  {
   "cell_type": "markdown",
   "id": "87b2e669-0d11-4cf4-b00f-db6de9c7319e",
   "metadata": {},
   "source": [
    "# International TXN Ratio"
   ]
  },
  {
   "cell_type": "code",
   "execution_count": null,
   "id": "b41b835a-a5c4-41f4-99e5-6c1dd4338caf",
   "metadata": {},
   "outputs": [],
   "source": [
    "\n",
    "intRatio = transactions[\"is_international\"].value_counts(normalize=True) * 100\n",
    "colors = sns.color_palette('Set2', n_colors=len(intRatio))\n",
    "intRatio.plot(kind='bar',title='Domestic vs International Txn', color=colors)\n",
    "plt.grid(True)"
   ]
  },
  {
   "cell_type": "markdown",
   "id": "cf2ae67b-47e0-4a3a-b1c8-828bfd4f26f9",
   "metadata": {},
   "source": [
    "# Customer Churn Prediction"
   ]
  },
  {
   "cell_type": "code",
   "execution_count": null,
   "id": "c55b561d-0da4-43db-a309-4fbdf4de37c9",
   "metadata": {},
   "outputs": [],
   "source": [
    "churnThreshold = transactions['transaction_date'].max() - pd.DateOffset(months = 3)\n",
    "churnThreshold"
   ]
  },
  {
   "cell_type": "code",
   "execution_count": null,
   "id": "2a41650d-b9a7-43b8-8c44-f56dc480a659",
   "metadata": {},
   "outputs": [],
   "source": [
    "last_txn_per_customer = transactions.groupby('customer_id')['transaction_date'].max().reset_index()\n",
    "last_txn_per_customer['churned'] = last_txn_per_customer['transaction_date'] > churnThreshold"
   ]
  },
  {
   "cell_type": "code",
   "execution_count": null,
   "id": "93e7babb-6095-45c5-be2f-e26bb3e4292d",
   "metadata": {},
   "outputs": [],
   "source": [
    "last_txn_per_customer"
   ]
  },
  {
   "cell_type": "code",
   "execution_count": null,
   "id": "bbd6284c-d476-40d0-a084-64aa0fffe68f",
   "metadata": {},
   "outputs": [],
   "source": [
    "customer_summary = customer_summary.merge(last_txn_per_customer[['customer_id','churned']], on='customer_id')\n",
    "customer_summary"
   ]
  },
  {
   "cell_type": "code",
   "execution_count": null,
   "id": "4b16722b-bc2b-4ec8-bb7c-35b05bff7a3d",
   "metadata": {},
   "outputs": [],
   "source": [
    "from datetime import datetime\n",
    "\n",
    "customer_summary['days_since_joining'] = (last_date - customer_summary['join_date']).dt.days"
   ]
  },
  {
   "cell_type": "code",
   "execution_count": null,
   "id": "65d56a43-c241-4c5a-875a-2f13f92927e2",
   "metadata": {},
   "outputs": [],
   "source": [
    "features = customer_summary[['total_spend', 'avg_spend', 'txn_count', 'int_txn_pct','days_since_joining']]\n",
    "target = customer_summary['churned']\n",
    "\n",
    "\n",
    "target , features"
   ]
  },
  {
   "cell_type": "code",
   "execution_count": null,
   "id": "c216e9c8-7256-4e5b-9d0b-264dd12c0efe",
   "metadata": {},
   "outputs": [],
   "source": [
    "from sklearn.model_selection import train_test_split\n",
    "from sklearn.ensemble import RandomForestClassifier\n",
    "from sklearn.metrics import classification_report, confusion_matrix"
   ]
  },
  {
   "cell_type": "code",
   "execution_count": null,
   "id": "4e9179e7-7b74-485c-9569-9fa2a50e7207",
   "metadata": {},
   "outputs": [],
   "source": [
    "x_train, x_test, y_train, y_test = train_test_split(features, target, test_size = 0.2, random_state=42)"
   ]
  },
  {
   "cell_type": "code",
   "execution_count": null,
   "id": "8fe2d105-89ff-47c1-affd-d64432c9bbbb",
   "metadata": {},
   "outputs": [],
   "source": [
    "model = RandomForestClassifier(n_estimators = 100, random_state=42)\n",
    "model.fit(x_train, y_train)"
   ]
  },
  {
   "cell_type": "code",
   "execution_count": null,
   "id": "c1b80f94-0c23-4d0e-aab0-91ef6389173d",
   "metadata": {},
   "outputs": [],
   "source": [
    "y_pred = model.predict(x_test)\n",
    "\n",
    "print(confusion_matrix(y_test, y_pred))"
   ]
  },
  {
   "cell_type": "code",
   "execution_count": null,
   "id": "4e275344-6414-4db1-8cbf-ac4018555afc",
   "metadata": {},
   "outputs": [],
   "source": [
    "print(classification_report(y_test, y_pred))"
   ]
  },
  {
   "cell_type": "code",
   "execution_count": null,
   "id": "7f0bc02e-91c8-4eb4-a5dc-4de5792deadc",
   "metadata": {},
   "outputs": [],
   "source": [
    "import matplotlib.pyplot as plt\n",
    "\n",
    "feat_importance = pd.Series(model.feature_importances_, index=features.columns)\n",
    "colors = sns.color_palette(\"Set2\", n_colors= len(features.value_counts()))\n",
    "feat_importance.sort_values().plot(kind='barh', title='Feature Importance', color = colors)\n",
    "plt.tight_layout()\n",
    "plt.show()\n"
   ]
  },
  {
   "cell_type": "code",
   "execution_count": null,
   "id": "f4d30ac1-362e-4e82-af44-d769f87f3cdb",
   "metadata": {},
   "outputs": [],
   "source": [
    "sns.boxplot(x=target, y = features['txn_count'])\n",
    "plt.title('avg_spend V/s Churn')\n",
    "plt.xlabel('Churned')\n",
    "plt.ylabel('avg_spend')\n",
    "plt.grid()\n",
    "plt.show()"
   ]
  },
  {
   "cell_type": "code",
   "execution_count": null,
   "id": "1f2648a5-f970-45e3-8185-1f89e4c105a4",
   "metadata": {},
   "outputs": [],
   "source": []
  }
 ],
 "metadata": {
  "kernelspec": {
   "display_name": "Python 3 (ipykernel)",
   "language": "python",
   "name": "python3"
  },
  "language_info": {
   "codemirror_mode": {
    "name": "ipython",
    "version": 3
   },
   "file_extension": ".py",
   "mimetype": "text/x-python",
   "name": "python",
   "nbconvert_exporter": "python",
   "pygments_lexer": "ipython3",
   "version": "3.11.11"
  }
 },
 "nbformat": 4,
 "nbformat_minor": 5
}
